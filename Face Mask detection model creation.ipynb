{
 "cells": [
  {
   "cell_type": "code",
   "execution_count": 1,
   "id": "f38e46cf",
   "metadata": {
    "scrolled": true
   },
   "outputs": [
    {
     "name": "stderr",
     "output_type": "stream",
     "text": [
      "C:\\Users\\User\\anaconda3\\envs\\facemask\\lib\\site-packages\\tensorflow\\python\\framework\\dtypes.py:516: FutureWarning: Passing (type, 1) or '1type' as a synonym of type is deprecated; in a future version of numpy, it will be understood as (type, (1,)) / '(1,)type'.\n",
      "  _np_qint8 = np.dtype([(\"qint8\", np.int8, 1)])\n",
      "C:\\Users\\User\\anaconda3\\envs\\facemask\\lib\\site-packages\\tensorflow\\python\\framework\\dtypes.py:517: FutureWarning: Passing (type, 1) or '1type' as a synonym of type is deprecated; in a future version of numpy, it will be understood as (type, (1,)) / '(1,)type'.\n",
      "  _np_quint8 = np.dtype([(\"quint8\", np.uint8, 1)])\n",
      "C:\\Users\\User\\anaconda3\\envs\\facemask\\lib\\site-packages\\tensorflow\\python\\framework\\dtypes.py:518: FutureWarning: Passing (type, 1) or '1type' as a synonym of type is deprecated; in a future version of numpy, it will be understood as (type, (1,)) / '(1,)type'.\n",
      "  _np_qint16 = np.dtype([(\"qint16\", np.int16, 1)])\n",
      "C:\\Users\\User\\anaconda3\\envs\\facemask\\lib\\site-packages\\tensorflow\\python\\framework\\dtypes.py:519: FutureWarning: Passing (type, 1) or '1type' as a synonym of type is deprecated; in a future version of numpy, it will be understood as (type, (1,)) / '(1,)type'.\n",
      "  _np_quint16 = np.dtype([(\"quint16\", np.uint16, 1)])\n",
      "C:\\Users\\User\\anaconda3\\envs\\facemask\\lib\\site-packages\\tensorflow\\python\\framework\\dtypes.py:520: FutureWarning: Passing (type, 1) or '1type' as a synonym of type is deprecated; in a future version of numpy, it will be understood as (type, (1,)) / '(1,)type'.\n",
      "  _np_qint32 = np.dtype([(\"qint32\", np.int32, 1)])\n",
      "C:\\Users\\User\\anaconda3\\envs\\facemask\\lib\\site-packages\\tensorflow\\python\\framework\\dtypes.py:525: FutureWarning: Passing (type, 1) or '1type' as a synonym of type is deprecated; in a future version of numpy, it will be understood as (type, (1,)) / '(1,)type'.\n",
      "  np_resource = np.dtype([(\"resource\", np.ubyte, 1)])\n",
      "C:\\Users\\User\\anaconda3\\envs\\facemask\\lib\\site-packages\\tensorboard\\compat\\tensorflow_stub\\dtypes.py:541: FutureWarning: Passing (type, 1) or '1type' as a synonym of type is deprecated; in a future version of numpy, it will be understood as (type, (1,)) / '(1,)type'.\n",
      "  _np_qint8 = np.dtype([(\"qint8\", np.int8, 1)])\n",
      "C:\\Users\\User\\anaconda3\\envs\\facemask\\lib\\site-packages\\tensorboard\\compat\\tensorflow_stub\\dtypes.py:542: FutureWarning: Passing (type, 1) or '1type' as a synonym of type is deprecated; in a future version of numpy, it will be understood as (type, (1,)) / '(1,)type'.\n",
      "  _np_quint8 = np.dtype([(\"quint8\", np.uint8, 1)])\n",
      "C:\\Users\\User\\anaconda3\\envs\\facemask\\lib\\site-packages\\tensorboard\\compat\\tensorflow_stub\\dtypes.py:543: FutureWarning: Passing (type, 1) or '1type' as a synonym of type is deprecated; in a future version of numpy, it will be understood as (type, (1,)) / '(1,)type'.\n",
      "  _np_qint16 = np.dtype([(\"qint16\", np.int16, 1)])\n",
      "C:\\Users\\User\\anaconda3\\envs\\facemask\\lib\\site-packages\\tensorboard\\compat\\tensorflow_stub\\dtypes.py:544: FutureWarning: Passing (type, 1) or '1type' as a synonym of type is deprecated; in a future version of numpy, it will be understood as (type, (1,)) / '(1,)type'.\n",
      "  _np_quint16 = np.dtype([(\"quint16\", np.uint16, 1)])\n",
      "C:\\Users\\User\\anaconda3\\envs\\facemask\\lib\\site-packages\\tensorboard\\compat\\tensorflow_stub\\dtypes.py:545: FutureWarning: Passing (type, 1) or '1type' as a synonym of type is deprecated; in a future version of numpy, it will be understood as (type, (1,)) / '(1,)type'.\n",
      "  _np_qint32 = np.dtype([(\"qint32\", np.int32, 1)])\n",
      "C:\\Users\\User\\anaconda3\\envs\\facemask\\lib\\site-packages\\tensorboard\\compat\\tensorflow_stub\\dtypes.py:550: FutureWarning: Passing (type, 1) or '1type' as a synonym of type is deprecated; in a future version of numpy, it will be understood as (type, (1,)) / '(1,)type'.\n",
      "  np_resource = np.dtype([(\"resource\", np.ubyte, 1)])\n"
     ]
    }
   ],
   "source": [
    "# import libraries\n",
    "# lib for pre trained model \n",
    "from tensorflow.keras.preprocessing.image import ImageDataGenerator\n",
    "from tensorflow.keras.applications import MobileNetV2\n",
    "# lib for layers\n",
    "from tensorflow.keras.layers import AveragePooling2D\n",
    "from tensorflow.keras.layers import Dropout\n",
    "from tensorflow.keras.layers import Flatten\n",
    "from tensorflow.keras.layers import Dense\n",
    "# lib for connecting pretrained and created model\n",
    "from tensorflow.keras.layers import Input\n",
    "from tensorflow.keras.models import Model\n",
    "#lib for compile\n",
    "from tensorflow.keras.optimizers import Adam\n",
    "# lib for pre processing\n",
    "from tensorflow.keras.applications.mobilenet_v2 import preprocess_input\n",
    "from tensorflow.keras.preprocessing.image import img_to_array\n",
    "from tensorflow.keras.preprocessing.image import load_img\n",
    "from tensorflow.keras.utils import to_categorical\n",
    "from sklearn.preprocessing import LabelBinarizer\n",
    "# lib for spliting i/p and o/p\n",
    "from sklearn.model_selection import train_test_split\n",
    "# lib for metrics\n",
    "from sklearn.metrics import classification_report\n",
    "# other lib\n",
    "from imutils import paths\n",
    "import matplotlib.pyplot as plt\n",
    "import numpy as np\n",
    "import argparse\n",
    "import os"
   ]
  },
  {
   "cell_type": "code",
   "execution_count": 2,
   "id": "c0659a66",
   "metadata": {},
   "outputs": [],
   "source": [
    "# construct the argument parser and parse the arguments\n",
    "ap = argparse.ArgumentParser()\n",
    "# to assign the dataset path\n",
    "ap.add_argument(\"-d\", \"--dataset\", type=str, help=\"path to input dataset\")\n",
    "# to assign for output\n",
    "ap.add_argument(\"-p\", \"--plot\", type=str, default=\"plot.png\",help=\"path to output loss/accuracy plot\")\n",
    "# for model\n",
    "ap.add_argument(\"-m\", \"--model\", type=str,default=\"mask_detectorch.model\",help=\"path to output face mask detector model\")\n",
    "args, unknown = ap.parse_known_args()"
   ]
  },
  {
   "cell_type": "code",
   "execution_count": null,
   "id": "88ac781b",
   "metadata": {},
   "outputs": [],
   "source": []
  },
  {
   "cell_type": "code",
   "execution_count": 3,
   "id": "e091cb81",
   "metadata": {},
   "outputs": [
    {
     "name": "stdout",
     "output_type": "stream",
     "text": [
      "[INFO] loading images...\n"
     ]
    },
    {
     "name": "stderr",
     "output_type": "stream",
     "text": [
      "C:\\Users\\User\\anaconda3\\envs\\facemask\\lib\\site-packages\\PIL\\Image.py:961: UserWarning: Palette images with Transparency expressed in bytes should be converted to RGBA images\n",
      "  \"Palette images with Transparency expressed in bytes should be \"\n"
     ]
    },
    {
     "name": "stdout",
     "output_type": "stream",
     "text": [
      "[INFO] Training samples: 3076, Testing samples: 769\n"
     ]
    }
   ],
   "source": [
    "# get the list of images in the dataset directory\n",
    "print(\"[INFO] loading images...\")\n",
    "imagePaths = list(paths.list_images(r'S:/AI_RELATED/AI_PROJECTS/Face_Mask_Detection/dataset'))\n",
    "data = []\n",
    "labels = []\n",
    "\n",
    "# Loop over image paths\n",
    "for imagePath in imagePaths:\n",
    "    label = imagePath.split(os.path.sep)[-2]\n",
    "\n",
    "    image = load_img(imagePath, target_size=(224, 224))\n",
    "    image = img_to_array(image)\n",
    "    image = preprocess_input(image)\n",
    "\n",
    "    data.append(image)\n",
    "    labels.append(label)\n",
    "\n",
    "# Convert to numpy arrays\n",
    "data = np.array(data, dtype=\"float32\")\n",
    "labels = np.array(labels)\n",
    "\n",
    "# Split BEFORE encoding labels\n",
    "(trainX, testX, trainY_raw, testY_raw) = train_test_split(\n",
    "    data, labels, test_size=0.20, stratify=labels, random_state=42)\n",
    "\n",
    "# Perform label binarization AFTER split\n",
    "lb = LabelBinarizer()\n",
    "trainY = to_categorical(lb.fit_transform(trainY_raw))\n",
    "testY = to_categorical(lb.transform(testY_raw))\n",
    "\n",
    "print(f\"[INFO] Training samples: {trainX.shape[0]}, Testing samples: {testX.shape[0]}\")\n",
    "\n"
   ]
  },
  {
   "cell_type": "code",
   "execution_count": 4,
   "id": "a96b5206",
   "metadata": {},
   "outputs": [
    {
     "name": "stdout",
     "output_type": "stream",
     "text": [
      "[INFO] Class distribution: Counter({'without_mask': 1929, 'with_mask': 1916})\n"
     ]
    }
   ],
   "source": [
    "from collections import Counter\n",
    "\n",
    "# Count the number of samples per class\n",
    "label_counts = Counter(labels)\n",
    "print(\"[INFO] Class distribution:\", label_counts)\n"
   ]
  },
  {
   "cell_type": "code",
   "execution_count": 5,
   "id": "73966540",
   "metadata": {},
   "outputs": [],
   "source": [
    "#construct the trianing image generator for data augementation\n",
    "\n",
    "aug = ImageDataGenerator(\n",
    "    rotation_range=20,\n",
    "    zoom_range=0.15,\n",
    "    width_shift_range=0.2,\n",
    "    height_shift_range= 0.2,\n",
    "    shear_range= 0.15,\n",
    "    horizontal_flip= True,\n",
    "    fill_mode= 'nearest'\n",
    "    )"
   ]
  },
  {
   "cell_type": "code",
   "execution_count": 6,
   "id": "6a8a69c3",
   "metadata": {},
   "outputs": [
    {
     "name": "stdout",
     "output_type": "stream",
     "text": [
      "WARNING:tensorflow:From C:\\Users\\User\\anaconda3\\envs\\facemask\\lib\\site-packages\\tensorflow\\python\\ops\\init_ops.py:1251: calling VarianceScaling.__init__ (from tensorflow.python.ops.init_ops) with dtype is deprecated and will be removed in a future version.\n",
      "Instructions for updating:\n",
      "Call initializer instance with the dtype argument instead of passing it to the constructor\n"
     ]
    },
    {
     "name": "stderr",
     "output_type": "stream",
     "text": [
      "C:\\Users\\User\\anaconda3\\envs\\facemask\\lib\\site-packages\\keras_applications\\mobilenet_v2.py:294: UserWarning: `input_shape` is undefined or non-square, or `rows` is not in [96, 128, 160, 192, 224]. Weights for input shape (224, 224) will be loaded as the default.\n",
      "  warnings.warn('`input_shape` is undefined or non-square, '\n"
     ]
    }
   ],
   "source": [
    "# load the pre trained  model\n",
    "basemodel = MobileNetV2(weights ='imagenet',include_top = False,\n",
    "                        input_tensor = Input(shape = (224,224,3)))\n",
    "\n",
    "# develope a head model to place in the top of the model\n",
    "headmodel = basemodel.output\n",
    "headmodel = AveragePooling2D(pool_size =(7,7))(headmodel)\n",
    "headmodel = Flatten(name = 'flatten')(headmodel)\n",
    "headmodel = Dense(128,activation ='relu')(headmodel)\n",
    "headmodel = Dropout(0.5)(headmodel)\n",
    "headmodel = Dense(2,activation ='softmax')(headmodel)\n",
    "\n",
    "# building actual model by combining basemodel and headmodel of FC and that will be the training model\n",
    "model = Model(inputs =basemodel.input,outputs = headmodel)\n"
   ]
  },
  {
   "cell_type": "code",
   "execution_count": 7,
   "id": "7efcfbac",
   "metadata": {},
   "outputs": [],
   "source": [
    "# loop all over layers in the basemodel and freeze it to stop the update\n",
    "\n",
    "# mandatory step in all pre trained model program\n",
    "\n",
    "for layer in basemodel.layers:\n",
    "    layer.trainable =False"
   ]
  },
  {
   "cell_type": "code",
   "execution_count": 8,
   "id": "8b89eb9f",
   "metadata": {},
   "outputs": [
    {
     "name": "stdout",
     "output_type": "stream",
     "text": [
      "[INFO] Compiling model....\n"
     ]
    }
   ],
   "source": [
    "# compile model\n",
    "\n",
    "print(\"[INFO] Compiling model....\")\n",
    "# initialize the initial learning rate, number of epochs to train for,\n",
    "# and batch size\n",
    "INIT_LR = 1e-4\n",
    "EPOCHS = 20\n",
    "BS = 32\n",
    "opt = Adam(learning_rate=INIT_LR)\n",
    "model.compile(loss=\"binary_crossentropy\",optimizer =opt,\n",
    "              metrics =[\"accuracy\"])"
   ]
  },
  {
   "cell_type": "code",
   "execution_count": 9,
   "id": "37e8620b",
   "metadata": {},
   "outputs": [
    {
     "name": "stdout",
     "output_type": "stream",
     "text": [
      "[INFO] training head...\n",
      "Epoch 1/20\n",
      "WARNING:tensorflow:From C:\\Users\\User\\anaconda3\\envs\\facemask\\lib\\site-packages\\tensorflow\\python\\ops\\math_grad.py:1250: add_dispatch_support.<locals>.wrapper (from tensorflow.python.ops.array_ops) is deprecated and will be removed in a future version.\n",
      "Instructions for updating:\n",
      "Use tf.where in 2.0, which has the same broadcast rule as np.where\n",
      "96/96 [==============================] - 411s 4s/step - loss: 0.5888 - acc: 0.7053 - val_loss: 0.4342 - val_acc: 0.8270\n",
      "Epoch 2/20\n",
      "96/96 [==============================] - 447s 5s/step - loss: 0.3067 - acc: 0.8643 - val_loss: 0.3146 - val_acc: 0.8804\n",
      "Epoch 3/20\n",
      "96/96 [==============================] - 461s 5s/step - loss: 0.2489 - acc: 0.8985 - val_loss: 0.4438 - val_acc: 0.8257\n",
      "Epoch 4/20\n",
      "96/96 [==============================] - 466s 5s/step - loss: 0.1997 - acc: 0.9284 - val_loss: 0.3480 - val_acc: 0.8622\n",
      "Epoch 5/20\n",
      "96/96 [==============================] - 467s 5s/step - loss: 0.1751 - acc: 0.9336 - val_loss: 0.2817 - val_acc: 0.8973\n",
      "Epoch 6/20\n",
      "96/96 [==============================] - 442s 5s/step - loss: 0.1706 - acc: 0.9340 - val_loss: 0.3245 - val_acc: 0.8791\n",
      "Epoch 7/20\n",
      "96/96 [==============================] - 431s 4s/step - loss: 0.1482 - acc: 0.9468 - val_loss: 0.3506 - val_acc: 0.8817\n",
      "Epoch 8/20\n",
      "96/96 [==============================] - 461s 5s/step - loss: 0.1507 - acc: 0.9359 - val_loss: 0.3041 - val_acc: 0.8934\n",
      "Epoch 9/20\n",
      "96/96 [==============================] - 475s 5s/step - loss: 0.1328 - acc: 0.9527 - val_loss: 0.2673 - val_acc: 0.9025\n",
      "Epoch 10/20\n",
      "96/96 [==============================] - 468s 5s/step - loss: 0.1361 - acc: 0.9504 - val_loss: 0.2886 - val_acc: 0.9012\n",
      "Epoch 11/20\n",
      "96/96 [==============================] - 462s 5s/step - loss: 0.1262 - acc: 0.9537 - val_loss: 0.2502 - val_acc: 0.9142\n",
      "Epoch 12/20\n",
      "96/96 [==============================] - 485s 5s/step - loss: 0.1012 - acc: 0.9622 - val_loss: 0.2848 - val_acc: 0.9077\n",
      "Epoch 13/20\n",
      "96/96 [==============================] - 489s 5s/step - loss: 0.1131 - acc: 0.9570 - val_loss: 0.2828 - val_acc: 0.9090\n",
      "Epoch 14/20\n",
      "96/96 [==============================] - 531s 6s/step - loss: 0.1189 - acc: 0.9561 - val_loss: 0.2189 - val_acc: 0.9207\n",
      "Epoch 15/20\n",
      "96/96 [==============================] - 479s 5s/step - loss: 0.0976 - acc: 0.9655 - val_loss: 0.3028 - val_acc: 0.8973\n",
      "Epoch 16/20\n",
      "96/96 [==============================] - 489s 5s/step - loss: 0.1069 - acc: 0.9599 - val_loss: 0.2391 - val_acc: 0.9220\n",
      "Epoch 17/20\n",
      "96/96 [==============================] - 511s 5s/step - loss: 0.0950 - acc: 0.9661 - val_loss: 0.2615 - val_acc: 0.9129\n",
      "Epoch 18/20\n",
      "96/96 [==============================] - 489s 5s/step - loss: 0.0878 - acc: 0.9671 - val_loss: 0.2727 - val_acc: 0.9155\n",
      "Epoch 19/20\n",
      "96/96 [==============================] - 491s 5s/step - loss: 0.0940 - acc: 0.9652 - val_loss: 0.2406 - val_acc: 0.9233\n",
      "Epoch 20/20\n",
      "96/96 [==============================] - 487s 5s/step - loss: 0.1178 - acc: 0.9691 - val_loss: 0.2102 - val_acc: 0.9246\n"
     ]
    }
   ],
   "source": [
    "# train the head of the network\n",
    "print(\"[INFO] training head...\")\n",
    "H = model.fit(\n",
    "\taug.flow(trainX, trainY, batch_size=BS),\n",
    "\tsteps_per_epoch=len(trainX) // BS,\n",
    "\tvalidation_data=(testX, testY),\n",
    "\tvalidation_steps=len(testX) // BS,\n",
    "\tepochs=EPOCHS)\n"
   ]
  },
  {
   "cell_type": "code",
   "execution_count": 11,
   "id": "57593ef7",
   "metadata": {},
   "outputs": [
    {
     "name": "stdout",
     "output_type": "stream",
     "text": [
      "[INFO] evaluating network...\n",
      "              precision    recall  f1-score   support\n",
      "\n",
      "   with_mask       0.99      0.86      0.92       383\n",
      "without_mask       0.87      0.99      0.93       386\n",
      "\n",
      "    accuracy                           0.92       769\n",
      "   macro avg       0.93      0.92      0.92       769\n",
      "weighted avg       0.93      0.92      0.92       769\n",
      "\n"
     ]
    }
   ],
   "source": [
    "# make predictions on the testing set\n",
    "print(\"[INFO] evaluating network...\")\n",
    "predIdxs = model.predict(testX, batch_size=BS)\n",
    "\n",
    "# for each image in the testing set we need to find the index of the\n",
    "# label with corresponding largest predicted probability\n",
    "predIdxs = np.argmax(predIdxs, axis=1)\n",
    "\n",
    "# show a nicely formatted classification report\n",
    "print(classification_report(testY.argmax(axis=1), predIdxs,\n",
    "\ttarget_names=lb.classes_))"
   ]
  },
  {
   "cell_type": "code",
   "execution_count": 13,
   "id": "2c1e2e0a",
   "metadata": {},
   "outputs": [
    {
     "name": "stdout",
     "output_type": "stream",
     "text": [
      "[INFO] saving the mask detector model...\n"
     ]
    }
   ],
   "source": [
    "\n",
    "#Save the model\n",
    "print(\"[INFO] saving the mask detector model...\")\n",
    "model.save('mask_detector.h5')\n"
   ]
  },
  {
   "cell_type": "code",
   "execution_count": null,
   "id": "1033f1b3",
   "metadata": {},
   "outputs": [],
   "source": []
  }
 ],
 "metadata": {
  "kernelspec": {
   "display_name": "Python 3 (ipykernel)",
   "language": "python",
   "name": "python3"
  },
  "language_info": {
   "codemirror_mode": {
    "name": "ipython",
    "version": 3
   },
   "file_extension": ".py",
   "mimetype": "text/x-python",
   "name": "python",
   "nbconvert_exporter": "python",
   "pygments_lexer": "ipython3",
   "version": "3.7.1"
  }
 },
 "nbformat": 4,
 "nbformat_minor": 5
}
