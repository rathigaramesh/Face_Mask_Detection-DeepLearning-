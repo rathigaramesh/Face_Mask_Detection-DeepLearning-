{
 "cells": [
  {
   "cell_type": "markdown",
   "id": "cfaf95ba",
   "metadata": {},
   "source": [
    "# TensorFlow.keras - MODEL : mobilenet_v2"
   ]
  },
  {
   "cell_type": "code",
   "execution_count": 71,
   "id": "c2ac963e",
   "metadata": {},
   "outputs": [],
   "source": [
    "# import the necessary packages\n",
    "from tensorflow.keras.applications.mobilenet_v2 import preprocess_input\n",
    "from tensorflow.keras.preprocessing.image import img_to_array\n",
    "from tensorflow.keras.models import load_model\n",
    "import numpy as np\n",
    "import argparse\n",
    "import cv2\n",
    "import os\n"
   ]
  },
  {
   "cell_type": "markdown",
   "id": "adb069c8",
   "metadata": {},
   "source": [
    "# Set Path and import pretrained model"
   ]
  },
  {
   "cell_type": "code",
   "execution_count": 72,
   "id": "9554c5d3",
   "metadata": {},
   "outputs": [
    {
     "name": "stdout",
     "output_type": "stream",
     "text": [
      "[INFO] loading face detector model...\n"
     ]
    }
   ],
   "source": [
    "# Set the paths for the face detector model and mask detector model\n",
    "face_detector_path = r\"S:\\AI_RELATED\\AI_PROJECTS\\Face_Mask_Detection\\face_detector\"\n",
    "mask_detector_model_path = r\"S:\\AI_RELATED\\AI_PROJECTS\\Face_Mask_Detection\\face_detector\\mask_detector.model\"\n",
    "\n",
    "# Input the image path directly here\n",
    "image_path = r\"S:\\AI_RELATED\\AI_PROJECTS\\Face_Mask_Detection\\input_img\\imgrathiga2.jpg\"\n",
    "\n",
    "# Load the face detector model from disk\n",
    "print(\"[INFO] loading face detector model...\")\n",
    "prototxtPath = os.path.join(face_detector_path, \"deploy.prototxt\")\n",
    "weightsPath = os.path.join(face_detector_path, \"res10_300x300_ssd_iter_140000.caffemodel\")\n",
    "net = cv2.dnn.readNet(prototxtPath, weightsPath)\n"
   ]
  },
  {
   "cell_type": "code",
   "execution_count": 73,
   "id": "be3bfe68",
   "metadata": {},
   "outputs": [
    {
     "name": "stdout",
     "output_type": "stream",
     "text": [
      "[INFO] loading face mask detector model...\n"
     ]
    }
   ],
   "source": [
    "# Load the face mask detector model from disk\n",
    "print(\"[INFO] loading face mask detector model...\")\n",
    "model = load_model(mask_detector_model_path)\n",
    "\n",
    "# Load the input image from disk\n",
    "image = cv2.imread(image_path)\n",
    "\n",
    "# Check if the image was loaded successfully\n",
    "if image is None:\n",
    "    print(f\"[ERROR] Could not read image from path: {image_path}\")\n",
    "    exit()\n",
    "\n",
    "# Clone the image and grab the image spatial dimensions\n",
    "orig = image.copy()\n",
    "(h, w) = image.shape[:2]\n",
    "\n",
    "# orig is a copy of the original image so you can draw on it without modifying the original.\n",
    "# h = height, w = width — used later for calculating bounding boxes.\n",
    "\n",
    "# Construct a blob from the image\n",
    "blob = cv2.dnn.blobFromImage(image, 1.0, (300, 300), (104.0, 177.0, 123.0))\n"
   ]
  },
  {
   "cell_type": "markdown",
   "id": "ecffe4e9",
   "metadata": {},
   "source": [
    "# Blob through the network"
   ]
  },
  {
   "cell_type": "code",
   "execution_count": 74,
   "id": "ff82568e",
   "metadata": {},
   "outputs": [
    {
     "name": "stdout",
     "output_type": "stream",
     "text": [
      "[INFO] computing face detections...\n"
     ]
    }
   ],
   "source": [
    "# Pass the blob through the network and obtain the face detections\n",
    "print(\"[INFO] computing face detections...\")\n",
    "net.setInput(blob)\n",
    "detections = net.forward()\n"
   ]
  },
  {
   "cell_type": "markdown",
   "id": "6b803c01",
   "metadata": {},
   "source": [
    "# Probability Detection"
   ]
  },
  {
   "cell_type": "code",
   "execution_count": 68,
   "id": "ab62a1f1",
   "metadata": {},
   "outputs": [],
   "source": [
    "# Loop over the detections\n",
    "for i in range(0, detections.shape[2]):\n",
    "    # Extract the confidence (i.e., probability) associated with the detection\n",
    "    confidence = detections[0, 0, i, 2]\n",
    "\n",
    "    # Filter out weak detections by ensuring the confidence is greater than the minimum confidence\n",
    "    if confidence > 0.5:\n",
    "        # Compute the (x, y)-coordinates of the bounding box for the object\n",
    "        box = detections[0, 0, i, 3:7] * np.array([w, h, w, h])\n",
    "        (startX, startY, endX, endY) = box.astype(\"int\")\n",
    "\n",
    "        # Ensure the bounding boxes fall within the dimensions of the frame\n",
    "        (startX, startY) = (max(0, startX), max(0, startY))\n",
    "        (endX, endY) = (min(w - 1, endX)), (min(h - 1, endY))\n",
    " # Extract the face ROI, convert it from BGR to RGB channel ordering, resize it to 224x224, and preprocess it\n",
    "        face = image[startY:endY, startX:endX]\n",
    "\n",
    "        # Skip if the face ROI is empty or invalid\n",
    "        if face.size == 0:\n",
    "            continue  # skip this detection\n",
    "\n",
    "        face = cv2.cvtColor(face, cv2.COLOR_BGR2RGB)\n",
    "        face = cv2.resize(face, (224, 224))\n",
    "        face = img_to_array(face)\n",
    "        face = preprocess_input(face)\n",
    "        face = np.expand_dims(face, axis=0)\n",
    "       \n",
    "\n"
   ]
  },
  {
   "cell_type": "markdown",
   "id": "893b97ab",
   "metadata": {},
   "source": [
    "# Prediction using your trained mode"
   ]
  },
  {
   "cell_type": "code",
   "execution_count": 69,
   "id": "2680edf4",
   "metadata": {},
   "outputs": [
    {
     "data": {
      "text/plain": [
       "array([[[243, 243, 243],\n",
       "        [243, 243, 243],\n",
       "        [243, 243, 243],\n",
       "        ...,\n",
       "        [243, 243, 243],\n",
       "        [243, 243, 243],\n",
       "        [243, 243, 243]],\n",
       "\n",
       "       [[243, 243, 243],\n",
       "        [243, 243, 243],\n",
       "        [243, 243, 243],\n",
       "        ...,\n",
       "        [243, 243, 243],\n",
       "        [243, 243, 243],\n",
       "        [243, 243, 243]],\n",
       "\n",
       "       [[243, 243, 243],\n",
       "        [243, 243, 243],\n",
       "        [243, 243, 243],\n",
       "        ...,\n",
       "        [243, 243, 243],\n",
       "        [243, 243, 243],\n",
       "        [243, 243, 243]],\n",
       "\n",
       "       ...,\n",
       "\n",
       "       [[243, 243, 243],\n",
       "        [243, 243, 243],\n",
       "        [243, 243, 243],\n",
       "        ...,\n",
       "        [243, 243, 243],\n",
       "        [243, 243, 243],\n",
       "        [243, 243, 243]],\n",
       "\n",
       "       [[243, 243, 243],\n",
       "        [243, 243, 243],\n",
       "        [243, 243, 243],\n",
       "        ...,\n",
       "        [243, 243, 243],\n",
       "        [243, 243, 243],\n",
       "        [243, 243, 243]],\n",
       "\n",
       "       [[243, 243, 243],\n",
       "        [243, 243, 243],\n",
       "        [243, 243, 243],\n",
       "        ...,\n",
       "        [243, 243, 243],\n",
       "        [243, 243, 243],\n",
       "        [243, 243, 243]]], dtype=uint8)"
      ]
     },
     "execution_count": 69,
     "metadata": {},
     "output_type": "execute_result"
    }
   ],
   "source": [
    " # Pass the face through the model to determine if the face has a mask or not\n",
    "(mask, withoutMask) = model.predict(face)[0]\n",
    "\n",
    "# Determine the class label and color we'll use to draw the bounding box and text\n",
    "label = \"Mask\" if mask > withoutMask else \"No Mask\"\n",
    "color = (0, 255, 0) if label == \"Mask\" else (0, 0, 255)\n",
    "\n",
    "# Include the probability in the label\n",
    "label = \"{}: {:.2f}%\".format(label, max(mask, withoutMask) * 100)\n",
    "\n",
    "# Display the label and bounding box rectangle on the output frame\n",
    "font_scale = max(0.5, min(w, h) / 600.0)  # dynamic scaling\n",
    "cv2.putText(orig, label, (startX, startY - 10),\n",
    "            cv2.FONT_HERSHEY_SIMPLEX, font_scale, color, 2)\n",
    "cv2.rectangle(orig, (startX, startY), (endX, endY), color, 2)\n"
   ]
  },
  {
   "cell_type": "markdown",
   "id": "997be7f3",
   "metadata": {},
   "source": [
    "# RESULT - Deep Learning"
   ]
  },
  {
   "cell_type": "code",
   "execution_count": 70,
   "id": "897bce1d",
   "metadata": {},
   "outputs": [],
   "source": [
    "# Show the output image\n",
    "#cv2.imshow(\"Output\", orig)\n",
    "output_path = \"S:/AI_RELATED/AI_PROJECTS/Face_Mask_Detection/output_result/outputres.jpg\"\n",
    "cv2.imwrite(output_path, orig)\n",
    "cv2.waitKey(0)\n",
    "cv2.destroyAllWindows()"
   ]
  },
  {
   "cell_type": "code",
   "execution_count": null,
   "id": "c55d6015",
   "metadata": {},
   "outputs": [],
   "source": [
    "# Open the folder  -> output_img (RESULT)"
   ]
  },
  {
   "cell_type": "code",
   "execution_count": null,
   "id": "a5aac20b",
   "metadata": {},
   "outputs": [],
   "source": []
  }
 ],
 "metadata": {
  "kernelspec": {
   "display_name": "Python 3 (ipykernel)",
   "language": "python",
   "name": "python3"
  },
  "language_info": {
   "codemirror_mode": {
    "name": "ipython",
    "version": 3
   },
   "file_extension": ".py",
   "mimetype": "text/x-python",
   "name": "python",
   "nbconvert_exporter": "python",
   "pygments_lexer": "ipython3",
   "version": "3.7.1"
  }
 },
 "nbformat": 4,
 "nbformat_minor": 5
}
